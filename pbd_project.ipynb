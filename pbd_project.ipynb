{
 "cells": [
  {
   "cell_type": "markdown",
   "metadata": {},
   "source": [
    "# A POWER BI DASHBOARD PROJECT"
   ]
  },
  {
   "cell_type": "markdown",
   "metadata": {},
   "source": [
    "## Business Understanding"
   ]
  },
  {
   "cell_type": "markdown",
   "metadata": {},
   "source": [
    "#### Team: Team Namibia"
   ]
  },
  {
   "cell_type": "markdown",
   "metadata": {},
   "source": [
    "<a id=\"top\"></a>\n",
    "\n",
    "## Table of Contents\n",
    "\n",
    "\n",
    "[**Business Understanding**](#Business-Understanding)\n",
    "\n",
    "[**Data Understanding**](#Data-Understanding) \n",
    "\n",
    "- [**Load Data**](#Load-Data)\n",
    "- [**Data Inspection**](#Inital-Data-Inspection)\n",
    "- [**Data Quality Assessment**](#Data-Quality-Assessment)\n",
    "\n",
    "[**Data Cleaning**](#Data-CLeaning) \n",
    "\n",
    "[**Exploratory Data Analysis**](#exploratory-data-analysis)\n",
    "\n",
    "[**Analytical Questions**](#analytical-questions)\n",
    " "
   ]
  },
  {
   "cell_type": "markdown",
   "metadata": {},
   "source": [
    "#### Problem Statement:\n",
    "Team Namibia has been assigned to design and deliver an end-to-end business intelligence solution. Our client has collected transactional data for the year 2019 but hasn’t been able to put it to good use. The client hopes we can analyze the data and put together a report to help them find opportunities to drive more sales and work more efficiently. \n",
    "\n",
    "#### Objective\n",
    "In this analysis, we aim to:\n",
    "- Identify key trends and patterns in the 2019 transactional data.\n",
    "- Analyze sales performance and uncover opportunities to drive more sales.\n",
    "- Evaluate product performance and categorize products based on price levels.\n",
    "- Identify cities with the highest product deliveries.\n",
    "- Identify effective working processes\n",
    "\n",
    "#### Analytical Questions\n",
    "1. How much money did we make this year? \n",
    "   \n",
    "2. Can we identify any seasonality in the sales? \n",
    "\n",
    "3. What are our best and worst-selling products?\n",
    "\n",
    "4. How do sales compare to previous months or weeks?\n",
    "\n",
    "5. Which cities are our products delivered to most?\n",
    "\n",
    "6. How do product categories compare in revenue generated and quantities ordered?\n",
    "\n",
    "7. You are required to show additional details from your findings in your data. \n",
    "\n",
    "- NB: Products with unit prices above $99.99 should be labeled high-level products otherwise they should be basic level.\n",
    "\n",
    "#### Hypothesis\n",
    "- Null Hypothesis (H0): There are no significant differences in Amount amongst the group(columns) of factors being tested.\n",
    "- Alternative Hypothesis (H1): There are significant differences in Amount amongst the group(columns) of factors being tested."
   ]
  },
  {
   "cell_type": "markdown",
   "metadata": {},
   "source": [
    "# Data Understanding\n",
    "\n",
    "[Back to top](#top)"
   ]
  },
  {
   "cell_type": "markdown",
   "metadata": {},
   "source": [
    "Sales data was collected for each month in the entire year of 2019. \n",
    "The data for the first half of the year (January to June) was collected in Excel and saved as CSV files before management decided to use databases to store their data. "
   ]
  },
  {
   "cell_type": "markdown",
   "metadata": {},
   "source": [
    "## Load Data"
   ]
  },
  {
   "cell_type": "markdown",
   "metadata": {},
   "source": [
    "### Import packages"
   ]
  },
  {
   "cell_type": "code",
   "execution_count": 130,
   "metadata": {},
   "outputs": [],
   "source": [
    "# Import the pyodbc library to handle ODBC database connections\n",
    "# Import the dotenv function to load environment variables from a .env file\n",
    "import pyodbc \n",
    "from dotenv import dotenv_values    \n",
    "\n",
    "# Import the warnings library to handle warning messages\n",
    "import warnings\n",
    "warnings.filterwarnings('ignore')       \n",
    "\n",
    "import pandas as pd \n",
    "import numpy as np\n",
    "import seaborn as sns\n",
    "\n",
    "import glob\n",
    "import os"
   ]
  },
  {
   "cell_type": "markdown",
   "metadata": {},
   "source": [
    "### Load csv files"
   ]
  },
  {
   "cell_type": "code",
   "execution_count": 131,
   "metadata": {},
   "outputs": [],
   "source": [
    "\n",
    "# Define the folder path\n",
    "folder_path = r\"\\\\Mac\\Home\\Downloads\\Business-Analytics-Project\\dataset\"\n",
    "\n",
    "# Get a list of all CSV files\n",
    "csv_files = glob.glob(os.path.join(folder_path, '*.csv'))\n",
    "\n",
    "# Load all CSV files and concatenate them into a single DataFrame\n",
    "first_half = pd.concat([pd.read_csv(file) for file in csv_files], ignore_index=True)\n",
    "\n",
    "first_half.shape\n"
   ]
  },
  {
   "cell_type": "markdown",
   "metadata": {},
   "source": [
    "### Load  Database"
   ]
  },
  {
   "cell_type": "markdown",
   "metadata": {},
   "source": [
    "#### Establishing a connection to the SQL database"
   ]
  },
  {
   "cell_type": "code",
   "execution_count": 132,
   "metadata": {},
   "outputs": [
    {
     "data": {
      "text/plain": [
       "'DRIVER={SQL Server};SERVER=dap-projects-database.database.windows.net;DATABASE=dapDB;UID=capstone;PWD=Z7x@8pM$2w;MARS_Connection=yes;MinProtocolVersion=TLSv1.2;'"
      ]
     },
     "execution_count": 132,
     "metadata": {},
     "output_type": "execute_result"
    }
   ],
   "source": [
    "# Load environment variables from .env file into a dictionary\n",
    "environment_variables = dotenv_values('.env')\n",
    "\n",
    "# Get the values for the credentials you set in the .env file\n",
    "database = environment_variables.get(\"DATABASE\")\n",
    "server = environment_variables.get(\"SERVER\")\n",
    "username = environment_variables.get(\"UID\")\n",
    "password = environment_variables.get(\"PWD\")\n",
    "\n",
    "# Create the connection string using the retrieved credentials\n",
    "connection_string = f\"DRIVER={{SQL Server}};SERVER={server};DATABASE={database};UID={username};PWD={password};MARS_Connection=yes;MinProtocolVersion=TLSv1.2;\"\n"
   ]
  },
  {
   "cell_type": "markdown",
   "metadata": {},
   "source": [
    "#### Load data from database"
   ]
  },
  {
   "cell_type": "code",
   "execution_count": 133,
   "metadata": {},
   "outputs": [
    {
     "data": {
      "text/html": [
       "<div>\n",
       "<style scoped>\n",
       "    .dataframe tbody tr th:only-of-type {\n",
       "        vertical-align: middle;\n",
       "    }\n",
       "\n",
       "    .dataframe tbody tr th {\n",
       "        vertical-align: top;\n",
       "    }\n",
       "\n",
       "    .dataframe thead th {\n",
       "        text-align: right;\n",
       "    }\n",
       "</style>\n",
       "<table border=\"1\" class=\"dataframe\">\n",
       "  <thead>\n",
       "    <tr style=\"text-align: right;\">\n",
       "      <th></th>\n",
       "      <th>TABLE_NAME</th>\n",
       "    </tr>\n",
       "  </thead>\n",
       "  <tbody>\n",
       "    <tr>\n",
       "      <th>0</th>\n",
       "      <td>Sales_July_2019</td>\n",
       "    </tr>\n",
       "    <tr>\n",
       "      <th>1</th>\n",
       "      <td>Sales_August_2019</td>\n",
       "    </tr>\n",
       "    <tr>\n",
       "      <th>2</th>\n",
       "      <td>Sales_September_2019</td>\n",
       "    </tr>\n",
       "    <tr>\n",
       "      <th>3</th>\n",
       "      <td>Sales_October_2019</td>\n",
       "    </tr>\n",
       "    <tr>\n",
       "      <th>4</th>\n",
       "      <td>Sales_November_2019</td>\n",
       "    </tr>\n",
       "    <tr>\n",
       "      <th>5</th>\n",
       "      <td>Sales_December_2019</td>\n",
       "    </tr>\n",
       "  </tbody>\n",
       "</table>\n",
       "</div>"
      ],
      "text/plain": [
       "             TABLE_NAME\n",
       "0       Sales_July_2019\n",
       "1     Sales_August_2019\n",
       "2  Sales_September_2019\n",
       "3    Sales_October_2019\n",
       "4   Sales_November_2019\n",
       "5   Sales_December_2019"
      ]
     },
     "execution_count": 133,
     "metadata": {},
     "output_type": "execute_result"
    }
   ],
   "source": [
    "# Establish a connection to the database using the connection string\n",
    "connection = pyodbc.connect(connection_string) \n",
    "\n",
    "# Define the SQL query to list all tables (for SQL Server)\n",
    "query = \"\"\"\n",
    "SELECT TABLE_NAME \n",
    "FROM INFORMATION_SCHEMA.TABLES \n",
    "WHERE TABLE_TYPE = 'BASE TABLE';\n",
    "\"\"\"\n",
    "\n",
    "# Execute the SQL query and fetch the result into a pandas DataFrame using the established database connection\n",
    "tables = pd.read_sql(query, connection)\n",
    "\n",
    "tables"
   ]
  },
  {
   "cell_type": "code",
   "execution_count": 134,
   "metadata": {},
   "outputs": [
    {
     "name": "stdout",
     "output_type": "stream",
     "text": [
      "july\n",
      "Index(['Order_ID', 'Product', 'Quantity_Ordered', 'Price_Each', 'Order_Date',\n",
      "       'Purchase_Address'],\n",
      "      dtype='object')\n",
      "(14371, 6)\n",
      "==================================================\n",
      "august\n",
      "Index(['Order_ID', 'Product', 'Quantity_Ordered', 'Price_Each', 'Order_Date',\n",
      "       'Purchase_Address'],\n",
      "      dtype='object')\n",
      "(12011, 6)\n",
      "==================================================\n",
      "september\n",
      "Index(['Order_ID', 'Product', 'Quantity_Ordered', 'Price_Each', 'Order_Date',\n",
      "       'Purchase_Address'],\n",
      "      dtype='object')\n",
      "(11686, 6)\n",
      "==================================================\n",
      "october\n",
      "Index(['Order_ID', 'Product', 'Quantity_Ordered', 'Price_Each', 'Order_Date',\n",
      "       'Purchase_Address'],\n",
      "      dtype='object')\n",
      "(20379, 6)\n",
      "==================================================\n",
      "november\n",
      "Index(['Order_ID', 'Product', 'Quantity_Ordered', 'Price_Each', 'Order_Date',\n",
      "       'Purchase_Address'],\n",
      "      dtype='object')\n",
      "(17661, 6)\n",
      "==================================================\n",
      "december\n",
      "Index(['Order_ID', 'Product', 'Quantity_Ordered', 'Price_Each', 'Order_Date',\n",
      "       'Purchase_Address'],\n",
      "      dtype='object')\n",
      "(25117, 6)\n",
      "==================================================\n"
     ]
    }
   ],
   "source": [
    "# Connection to each of the table\n",
    "query1 = \"Select * from Sales_July_2019\"\n",
    "query2 = \"Select * from Sales_August_2019\"\n",
    "query3 = \"Select * from Sales_September_2019\"\n",
    "query4 = \"Select * from Sales_October_2019\"\n",
    "query5 = \"Select * from Sales_November_2019\"\n",
    "query6 = \"Select * from Sales_December_2019\"\n",
    "\n",
    "# Execute the SQL query and fetch the result\n",
    "july_df = pd.read_sql(query1, connection)\n",
    "august_df = pd.read_sql(query2, connection)\n",
    "september_df = pd.read_sql(query3, connection)\n",
    "october_df = pd.read_sql(query4, connection)\n",
    "november_df = pd.read_sql(query5, connection)\n",
    "december_df = pd.read_sql(query6, connection)\n",
    "\n",
    "# Define the dictionary with DataFrames\n",
    "half_2 = {\n",
    "    'july': july_df,\n",
    "    'august': august_df,\n",
    "    'september': september_df,\n",
    "    'october': october_df,\n",
    "    'november': november_df,\n",
    "    'december': december_df\n",
    "}\n",
    "\n",
    "# Iterate over the dictionary\n",
    "for month, df in half_2.items():\n",
    "    print(f'{month}')\n",
    "    print(df.columns)\n",
    "    print(df.shape)\n",
    "    print('=' * 50)"
   ]
  },
  {
   "cell_type": "code",
   "execution_count": 135,
   "metadata": {},
   "outputs": [
    {
     "name": "stdout",
     "output_type": "stream",
     "text": [
      "Second half of the year merged data: (101225, 6)\n"
     ]
    }
   ],
   "source": [
    "# Merge all DataFrames into one\n",
    "second_half = pd.concat(half_2, ignore_index=True)\n",
    "print('Second half of the year merged data:', second_half.shape)"
   ]
  },
  {
   "cell_type": "code",
   "execution_count": 136,
   "metadata": {},
   "outputs": [
    {
     "data": {
      "text/plain": [
       "Index(['Order ID', 'Product', 'Quantity Ordered', 'Price Each', 'Order Date',\n",
       "       'Purchase Address'],\n",
       "      dtype='object')"
      ]
     },
     "execution_count": 136,
     "metadata": {},
     "output_type": "execute_result"
    }
   ],
   "source": [
    "#View the column names of the first half data\n",
    "first_half.columns"
   ]
  },
  {
   "cell_type": "code",
   "execution_count": 137,
   "metadata": {},
   "outputs": [
    {
     "data": {
      "text/plain": [
       "Index(['Order_ID', 'Product', 'Quantity_Ordered', 'Price_Each', 'Order_Date',\n",
       "       'Purchase_Address'],\n",
       "      dtype='object')"
      ]
     },
     "execution_count": 137,
     "metadata": {},
     "output_type": "execute_result"
    }
   ],
   "source": [
    "#View the column names of the second half data\n",
    "second_half.columns"
   ]
  },
  {
   "cell_type": "code",
   "execution_count": 138,
   "metadata": {},
   "outputs": [
    {
     "data": {
      "text/plain": [
       "Index(['Order_ID', 'Product', 'Quantity_Ordered', 'Price_Each', 'Order_Date',\n",
       "       'Purchase_Address'],\n",
       "      dtype='object')"
      ]
     },
     "execution_count": 138,
     "metadata": {},
     "output_type": "execute_result"
    }
   ],
   "source": [
    "#Renaming the first half data columns to match the second half's\n",
    "first_half.rename(columns={\n",
    "    'Order ID': 'Order_ID', \n",
    "    'Quantity Ordered': 'Quantity_Ordered',\n",
    "    'Price Each':'Price_Each',\n",
    "    'Order Date': 'Order_Date',\n",
    "    'Purchase Address' : 'Purchase_Address'\n",
    "}, inplace=True)\n",
    "\n",
    "#Verifying the column names of the first half data have been corrected\n",
    "first_half.columns"
   ]
  },
  {
   "cell_type": "markdown",
   "metadata": {},
   "source": [
    "### Merged Data"
   ]
  },
  {
   "cell_type": "code",
   "execution_count": 139,
   "metadata": {},
   "outputs": [
    {
     "name": "stdout",
     "output_type": "stream",
     "text": [
      "1st half year data: 85625\n",
      "2st half year data: 101225\n",
      "Total year 2019 data: 186850\n"
     ]
    }
   ],
   "source": [
    "# Merging both halfs into 2019_df\n",
    "Merged_df = pd.concat([first_half, second_half], axis=0, ignore_index='True')\n",
    "\n",
    "print('1st half year data:', first_half.shape[0])\n",
    "print('2st half year data:', second_half.shape[0])\n",
    "print('Total year 2019 data:', Merged_df.shape[0])\n"
   ]
  },
  {
   "cell_type": "code",
   "execution_count": 140,
   "metadata": {},
   "outputs": [
    {
     "data": {
      "text/plain": [
       "Index(['Order_ID', 'Product', 'Quantity_Ordered', 'Price_Each', 'Order_Date',\n",
       "       'Purchase_Address'],\n",
       "      dtype='object')"
      ]
     },
     "execution_count": 140,
     "metadata": {},
     "output_type": "execute_result"
    }
   ],
   "source": [
    "Merged_df.columns"
   ]
  },
  {
   "cell_type": "markdown",
   "metadata": {},
   "source": [
    "## Inital Data Inspection\n",
    "\n",
    "[Back to top](#top)\n"
   ]
  },
  {
   "cell_type": "markdown",
   "metadata": {},
   "source": [
    "This involves viewing different aspects of the loaded data that would provide insights on the properties of the data and how to handle it moving forward"
   ]
  },
  {
   "cell_type": "code",
   "execution_count": 141,
   "metadata": {},
   "outputs": [
    {
     "data": {
      "text/html": [
       "<div>\n",
       "<style scoped>\n",
       "    .dataframe tbody tr th:only-of-type {\n",
       "        vertical-align: middle;\n",
       "    }\n",
       "\n",
       "    .dataframe tbody tr th {\n",
       "        vertical-align: top;\n",
       "    }\n",
       "\n",
       "    .dataframe thead th {\n",
       "        text-align: right;\n",
       "    }\n",
       "</style>\n",
       "<table border=\"1\" class=\"dataframe\">\n",
       "  <thead>\n",
       "    <tr style=\"text-align: right;\">\n",
       "      <th></th>\n",
       "      <th>Order_ID</th>\n",
       "      <th>Product</th>\n",
       "      <th>Quantity_Ordered</th>\n",
       "      <th>Price_Each</th>\n",
       "      <th>Order_Date</th>\n",
       "      <th>Purchase_Address</th>\n",
       "    </tr>\n",
       "  </thead>\n",
       "  <tbody>\n",
       "    <tr>\n",
       "      <th>0</th>\n",
       "      <td>176558</td>\n",
       "      <td>USB-C Charging Cable</td>\n",
       "      <td>2</td>\n",
       "      <td>11.95</td>\n",
       "      <td>04/19/19 08:46</td>\n",
       "      <td>917 1st St, Dallas, TX 75001</td>\n",
       "    </tr>\n",
       "    <tr>\n",
       "      <th>1</th>\n",
       "      <td>NaN</td>\n",
       "      <td>NaN</td>\n",
       "      <td>NaN</td>\n",
       "      <td>NaN</td>\n",
       "      <td>NaN</td>\n",
       "      <td>NaN</td>\n",
       "    </tr>\n",
       "    <tr>\n",
       "      <th>2</th>\n",
       "      <td>176559</td>\n",
       "      <td>Bose SoundSport Headphones</td>\n",
       "      <td>1</td>\n",
       "      <td>99.99</td>\n",
       "      <td>04/07/19 22:30</td>\n",
       "      <td>682 Chestnut St, Boston, MA 02215</td>\n",
       "    </tr>\n",
       "    <tr>\n",
       "      <th>3</th>\n",
       "      <td>176560</td>\n",
       "      <td>Google Phone</td>\n",
       "      <td>1</td>\n",
       "      <td>600</td>\n",
       "      <td>04/12/19 14:38</td>\n",
       "      <td>669 Spruce St, Los Angeles, CA 90001</td>\n",
       "    </tr>\n",
       "    <tr>\n",
       "      <th>4</th>\n",
       "      <td>176560</td>\n",
       "      <td>Wired Headphones</td>\n",
       "      <td>1</td>\n",
       "      <td>11.99</td>\n",
       "      <td>04/12/19 14:38</td>\n",
       "      <td>669 Spruce St, Los Angeles, CA 90001</td>\n",
       "    </tr>\n",
       "  </tbody>\n",
       "</table>\n",
       "</div>"
      ],
      "text/plain": [
       "  Order_ID                     Product Quantity_Ordered Price_Each  \\\n",
       "0   176558        USB-C Charging Cable                2      11.95   \n",
       "1      NaN                         NaN              NaN        NaN   \n",
       "2   176559  Bose SoundSport Headphones                1      99.99   \n",
       "3   176560                Google Phone                1        600   \n",
       "4   176560            Wired Headphones                1      11.99   \n",
       "\n",
       "       Order_Date                      Purchase_Address  \n",
       "0  04/19/19 08:46          917 1st St, Dallas, TX 75001  \n",
       "1             NaN                                   NaN  \n",
       "2  04/07/19 22:30     682 Chestnut St, Boston, MA 02215  \n",
       "3  04/12/19 14:38  669 Spruce St, Los Angeles, CA 90001  \n",
       "4  04/12/19 14:38  669 Spruce St, Los Angeles, CA 90001  "
      ]
     },
     "execution_count": 141,
     "metadata": {},
     "output_type": "execute_result"
    }
   ],
   "source": [
    "#viewing the first few rows\n",
    "Merged_df.head()"
   ]
  },
  {
   "cell_type": "code",
   "execution_count": 142,
   "metadata": {},
   "outputs": [
    {
     "data": {
      "text/html": [
       "<div>\n",
       "<style scoped>\n",
       "    .dataframe tbody tr th:only-of-type {\n",
       "        vertical-align: middle;\n",
       "    }\n",
       "\n",
       "    .dataframe tbody tr th {\n",
       "        vertical-align: top;\n",
       "    }\n",
       "\n",
       "    .dataframe thead th {\n",
       "        text-align: right;\n",
       "    }\n",
       "</style>\n",
       "<table border=\"1\" class=\"dataframe\">\n",
       "  <thead>\n",
       "    <tr style=\"text-align: right;\">\n",
       "      <th></th>\n",
       "      <th>Order_ID</th>\n",
       "      <th>Product</th>\n",
       "      <th>Quantity_Ordered</th>\n",
       "      <th>Price_Each</th>\n",
       "      <th>Order_Date</th>\n",
       "      <th>Purchase_Address</th>\n",
       "    </tr>\n",
       "  </thead>\n",
       "  <tbody>\n",
       "    <tr>\n",
       "      <th>186845</th>\n",
       "      <td>319666.0</td>\n",
       "      <td>Lightning Charging Cable</td>\n",
       "      <td>1.0</td>\n",
       "      <td>14.95</td>\n",
       "      <td>2011-12-19 20:58:00.0000000</td>\n",
       "      <td>14 Madison St, San Francisco, CA 94016</td>\n",
       "    </tr>\n",
       "    <tr>\n",
       "      <th>186846</th>\n",
       "      <td>319667.0</td>\n",
       "      <td>AA Batteries (4-pack)</td>\n",
       "      <td>2.0</td>\n",
       "      <td>3.84</td>\n",
       "      <td>2001-12-19 12:01:00.0000000</td>\n",
       "      <td>549 Willow St, Los Angeles, CA 90001</td>\n",
       "    </tr>\n",
       "    <tr>\n",
       "      <th>186847</th>\n",
       "      <td>319668.0</td>\n",
       "      <td>Vareebadd Phone</td>\n",
       "      <td>1.0</td>\n",
       "      <td>400.0</td>\n",
       "      <td>2009-12-19 06:43:00.0000000</td>\n",
       "      <td>273 Wilson St, Seattle, WA 98101</td>\n",
       "    </tr>\n",
       "    <tr>\n",
       "      <th>186848</th>\n",
       "      <td>319669.0</td>\n",
       "      <td>Wired Headphones</td>\n",
       "      <td>1.0</td>\n",
       "      <td>11.99</td>\n",
       "      <td>2003-12-19 10:39:00.0000000</td>\n",
       "      <td>778 River St, Dallas, TX 75001</td>\n",
       "    </tr>\n",
       "    <tr>\n",
       "      <th>186849</th>\n",
       "      <td>319670.0</td>\n",
       "      <td>Bose SoundSport Headphones</td>\n",
       "      <td>1.0</td>\n",
       "      <td>99.989998</td>\n",
       "      <td>2021-12-19 21:45:00.0000000</td>\n",
       "      <td>747 Chestnut St, Los Angeles, CA 90001</td>\n",
       "    </tr>\n",
       "  </tbody>\n",
       "</table>\n",
       "</div>"
      ],
      "text/plain": [
       "        Order_ID                     Product Quantity_Ordered Price_Each  \\\n",
       "186845  319666.0    Lightning Charging Cable              1.0      14.95   \n",
       "186846  319667.0       AA Batteries (4-pack)              2.0       3.84   \n",
       "186847  319668.0             Vareebadd Phone              1.0      400.0   \n",
       "186848  319669.0            Wired Headphones              1.0      11.99   \n",
       "186849  319670.0  Bose SoundSport Headphones              1.0  99.989998   \n",
       "\n",
       "                         Order_Date                        Purchase_Address  \n",
       "186845  2011-12-19 20:58:00.0000000  14 Madison St, San Francisco, CA 94016  \n",
       "186846  2001-12-19 12:01:00.0000000    549 Willow St, Los Angeles, CA 90001  \n",
       "186847  2009-12-19 06:43:00.0000000        273 Wilson St, Seattle, WA 98101  \n",
       "186848  2003-12-19 10:39:00.0000000          778 River St, Dallas, TX 75001  \n",
       "186849  2021-12-19 21:45:00.0000000  747 Chestnut St, Los Angeles, CA 90001  "
      ]
     },
     "execution_count": 142,
     "metadata": {},
     "output_type": "execute_result"
    }
   ],
   "source": [
    "#viewing the last few rows\n",
    "Merged_df.tail()"
   ]
  },
  {
   "cell_type": "code",
   "execution_count": 143,
   "metadata": {},
   "outputs": [
    {
     "name": "stdout",
     "output_type": "stream",
     "text": [
      "<class 'pandas.core.frame.DataFrame'>\n",
      "RangeIndex: 186850 entries, 0 to 186849\n",
      "Data columns (total 6 columns):\n",
      " #   Column            Non-Null Count   Dtype \n",
      "---  ------            --------------   ----- \n",
      " 0   Order_ID          186110 non-null  object\n",
      " 1   Product           186305 non-null  object\n",
      " 2   Quantity_Ordered  186110 non-null  object\n",
      " 3   Price_Each        186110 non-null  object\n",
      " 4   Order_Date        186110 non-null  object\n",
      " 5   Purchase_Address  186305 non-null  object\n",
      "dtypes: object(6)\n",
      "memory usage: 8.6+ MB\n"
     ]
    }
   ],
   "source": [
    "#viewing the datatypes of the different columns\n",
    "Merged_df.info()"
   ]
  },
  {
   "cell_type": "code",
   "execution_count": 144,
   "metadata": {},
   "outputs": [
    {
     "data": {
      "text/html": [
       "<div>\n",
       "<style scoped>\n",
       "    .dataframe tbody tr th:only-of-type {\n",
       "        vertical-align: middle;\n",
       "    }\n",
       "\n",
       "    .dataframe tbody tr th {\n",
       "        vertical-align: top;\n",
       "    }\n",
       "\n",
       "    .dataframe thead th {\n",
       "        text-align: right;\n",
       "    }\n",
       "</style>\n",
       "<table border=\"1\" class=\"dataframe\">\n",
       "  <thead>\n",
       "    <tr style=\"text-align: right;\">\n",
       "      <th></th>\n",
       "      <th>Order_ID</th>\n",
       "      <th>Product</th>\n",
       "      <th>Quantity_Ordered</th>\n",
       "      <th>Price_Each</th>\n",
       "      <th>Order_Date</th>\n",
       "      <th>Purchase_Address</th>\n",
       "    </tr>\n",
       "  </thead>\n",
       "  <tbody>\n",
       "    <tr>\n",
       "      <th>count</th>\n",
       "      <td>186110</td>\n",
       "      <td>186305</td>\n",
       "      <td>186110.0</td>\n",
       "      <td>186110.00</td>\n",
       "      <td>186110</td>\n",
       "      <td>186305</td>\n",
       "    </tr>\n",
       "    <tr>\n",
       "      <th>unique</th>\n",
       "      <td>178438</td>\n",
       "      <td>20</td>\n",
       "      <td>18.0</td>\n",
       "      <td>40.00</td>\n",
       "      <td>142396</td>\n",
       "      <td>140788</td>\n",
       "    </tr>\n",
       "    <tr>\n",
       "      <th>top</th>\n",
       "      <td>Order ID</td>\n",
       "      <td>USB-C Charging Cable</td>\n",
       "      <td>1.0</td>\n",
       "      <td>11.95</td>\n",
       "      <td>Order Date</td>\n",
       "      <td>Purchase Address</td>\n",
       "    </tr>\n",
       "    <tr>\n",
       "      <th>freq</th>\n",
       "      <td>160</td>\n",
       "      <td>21903</td>\n",
       "      <td>91347.0</td>\n",
       "      <td>11951.00</td>\n",
       "      <td>160</td>\n",
       "      <td>355</td>\n",
       "    </tr>\n",
       "  </tbody>\n",
       "</table>\n",
       "</div>"
      ],
      "text/plain": [
       "        Order_ID               Product  Quantity_Ordered  Price_Each  \\\n",
       "count     186110                186305          186110.0   186110.00   \n",
       "unique    178438                    20              18.0       40.00   \n",
       "top     Order ID  USB-C Charging Cable               1.0       11.95   \n",
       "freq         160                 21903           91347.0    11951.00   \n",
       "\n",
       "        Order_Date  Purchase_Address  \n",
       "count       186110            186305  \n",
       "unique      142396            140788  \n",
       "top     Order Date  Purchase Address  \n",
       "freq           160               355  "
      ]
     },
     "execution_count": 144,
     "metadata": {},
     "output_type": "execute_result"
    }
   ],
   "source": [
    "#Summary Statistics on the merged data\n",
    "Merged_df.describe()"
   ]
  },
  {
   "cell_type": "markdown",
   "metadata": {},
   "source": [
    "### Observations\n",
    "There are 6 columns in the merged dataset with 186,850 rows. Two of the columns (Product and Purchase Address) are the only categorical columns with the rest being numerical. \n",
    "\n",
    "Every column has missing data. However, out of the 186,860 rows the categorical columns (Product and Purchase Address) have 186305 rows with the numerical columns (Order_ID, Price, Quantity Ordered and Order Date) each have 186,110 rows. \n",
    "\n",
    "All the columns have an object datatype including the  numerical ones. It was observed that in the concatenating, each month's transaction had a header row which appeared as an entry during the merging. This can be observed as Order Date, Order ID and Purchase Address being the top entry within their columns"
   ]
  },
  {
   "cell_type": "markdown",
   "metadata": {},
   "source": [
    "## Data Quality Assessment"
   ]
  },
  {
   "cell_type": "markdown",
   "metadata": {},
   "source": [
    "This is where the quality of the data is assessed, including completeness, accuracy, consitency and relevance. This is a crucial step in understanding the shortcomings of our data and being able to use that knowledge to plan how to handle/clean the data."
   ]
  },
  {
   "cell_type": "code",
   "execution_count": 145,
   "metadata": {},
   "outputs": [
    {
     "data": {
      "text/html": [
       "<div>\n",
       "<style scoped>\n",
       "    .dataframe tbody tr th:only-of-type {\n",
       "        vertical-align: middle;\n",
       "    }\n",
       "\n",
       "    .dataframe tbody tr th {\n",
       "        vertical-align: top;\n",
       "    }\n",
       "\n",
       "    .dataframe thead th {\n",
       "        text-align: right;\n",
       "    }\n",
       "</style>\n",
       "<table border=\"1\" class=\"dataframe\">\n",
       "  <thead>\n",
       "    <tr style=\"text-align: right;\">\n",
       "      <th></th>\n",
       "      <th>Missing Values</th>\n",
       "      <th>Percentage (%)</th>\n",
       "    </tr>\n",
       "  </thead>\n",
       "  <tbody>\n",
       "    <tr>\n",
       "      <th>Order_ID</th>\n",
       "      <td>740</td>\n",
       "      <td>0.40</td>\n",
       "    </tr>\n",
       "    <tr>\n",
       "      <th>Product</th>\n",
       "      <td>545</td>\n",
       "      <td>0.29</td>\n",
       "    </tr>\n",
       "    <tr>\n",
       "      <th>Quantity_Ordered</th>\n",
       "      <td>740</td>\n",
       "      <td>0.40</td>\n",
       "    </tr>\n",
       "    <tr>\n",
       "      <th>Price_Each</th>\n",
       "      <td>740</td>\n",
       "      <td>0.40</td>\n",
       "    </tr>\n",
       "    <tr>\n",
       "      <th>Order_Date</th>\n",
       "      <td>740</td>\n",
       "      <td>0.40</td>\n",
       "    </tr>\n",
       "    <tr>\n",
       "      <th>Purchase_Address</th>\n",
       "      <td>545</td>\n",
       "      <td>0.29</td>\n",
       "    </tr>\n",
       "  </tbody>\n",
       "</table>\n",
       "</div>"
      ],
      "text/plain": [
       "                  Missing Values  Percentage (%)\n",
       "Order_ID                     740            0.40\n",
       "Product                      545            0.29\n",
       "Quantity_Ordered             740            0.40\n",
       "Price_Each                   740            0.40\n",
       "Order_Date                   740            0.40\n",
       "Purchase_Address             545            0.29"
      ]
     },
     "execution_count": 145,
     "metadata": {},
     "output_type": "execute_result"
    }
   ],
   "source": [
    "# Checking for missing values and percentage\n",
    "missing_values = Merged_df.isnull().sum()\n",
    "total_values = len(Merged_df)\n",
    "\n",
    "# Create a DataFrame to display both count and percentage\n",
    "missing_percentage = (missing_values / total_values * 100).round(2)\n",
    "\n",
    "# Combine both count and percentage into a new DataFrame\n",
    "missing_data = pd.DataFrame({\n",
    "    'Missing Values': missing_values,\n",
    "    'Percentage (%)': missing_percentage\n",
    "})\n",
    "\n",
    "missing_data\n"
   ]
  },
  {
   "cell_type": "code",
   "execution_count": 146,
   "metadata": {},
   "outputs": [
    {
     "data": {
      "text/plain": [
       "1161"
      ]
     },
     "execution_count": 146,
     "metadata": {},
     "output_type": "execute_result"
    }
   ],
   "source": [
    "#Check for Duplicate rows\n",
    "Merged_df.duplicated().sum()"
   ]
  },
  {
   "cell_type": "code",
   "execution_count": 147,
   "metadata": {},
   "outputs": [
    {
     "data": {
      "text/plain": [
       "Order_ID            object\n",
       "Product             object\n",
       "Quantity_Ordered    object\n",
       "Price_Each          object\n",
       "Order_Date          object\n",
       "Purchase_Address    object\n",
       "dtype: object"
      ]
     },
     "execution_count": 147,
     "metadata": {},
     "output_type": "execute_result"
    }
   ],
   "source": [
    "#Assessing the column datatypes\n",
    "Merged_df.dtypes"
   ]
  },
  {
   "cell_type": "code",
   "execution_count": 148,
   "metadata": {},
   "outputs": [
    {
     "data": {
      "text/plain": [
       "<bound method NDFrame.sample of 0                      04/19/19 08:46\n",
       "1                                 NaN\n",
       "2                      04/07/19 22:30\n",
       "3                      04/12/19 14:38\n",
       "4                      04/12/19 14:38\n",
       "                     ...             \n",
       "186845    2011-12-19 20:58:00.0000000\n",
       "186846    2001-12-19 12:01:00.0000000\n",
       "186847    2009-12-19 06:43:00.0000000\n",
       "186848    2003-12-19 10:39:00.0000000\n",
       "186849    2021-12-19 21:45:00.0000000\n",
       "Name: Order_Date, Length: 186850, dtype: object>"
      ]
     },
     "execution_count": 148,
     "metadata": {},
     "output_type": "execute_result"
    }
   ],
   "source": [
    "Merged_df['Order_Date'].sample"
   ]
  },
  {
   "cell_type": "code",
   "execution_count": 149,
   "metadata": {},
   "outputs": [
    {
     "data": {
      "text/html": [
       "<div>\n",
       "<style scoped>\n",
       "    .dataframe tbody tr th:only-of-type {\n",
       "        vertical-align: middle;\n",
       "    }\n",
       "\n",
       "    .dataframe tbody tr th {\n",
       "        vertical-align: top;\n",
       "    }\n",
       "\n",
       "    .dataframe thead th {\n",
       "        text-align: right;\n",
       "    }\n",
       "</style>\n",
       "<table border=\"1\" class=\"dataframe\">\n",
       "  <thead>\n",
       "    <tr style=\"text-align: right;\">\n",
       "      <th></th>\n",
       "      <th>Order_ID</th>\n",
       "      <th>Product</th>\n",
       "      <th>Quantity_Ordered</th>\n",
       "      <th>Price_Each</th>\n",
       "      <th>Order_Date</th>\n",
       "      <th>Purchase_Address</th>\n",
       "    </tr>\n",
       "  </thead>\n",
       "  <tbody>\n",
       "    <tr>\n",
       "      <th>1</th>\n",
       "      <td>NaN</td>\n",
       "      <td>NaN</td>\n",
       "      <td>NaN</td>\n",
       "      <td>NaN</td>\n",
       "      <td>NaN</td>\n",
       "      <td>NaN</td>\n",
       "    </tr>\n",
       "    <tr>\n",
       "      <th>356</th>\n",
       "      <td>NaN</td>\n",
       "      <td>NaN</td>\n",
       "      <td>NaN</td>\n",
       "      <td>NaN</td>\n",
       "      <td>NaN</td>\n",
       "      <td>NaN</td>\n",
       "    </tr>\n",
       "    <tr>\n",
       "      <th>735</th>\n",
       "      <td>NaN</td>\n",
       "      <td>NaN</td>\n",
       "      <td>NaN</td>\n",
       "      <td>NaN</td>\n",
       "      <td>NaN</td>\n",
       "      <td>NaN</td>\n",
       "    </tr>\n",
       "    <tr>\n",
       "      <th>1433</th>\n",
       "      <td>NaN</td>\n",
       "      <td>NaN</td>\n",
       "      <td>NaN</td>\n",
       "      <td>NaN</td>\n",
       "      <td>NaN</td>\n",
       "      <td>NaN</td>\n",
       "    </tr>\n",
       "    <tr>\n",
       "      <th>1553</th>\n",
       "      <td>NaN</td>\n",
       "      <td>NaN</td>\n",
       "      <td>NaN</td>\n",
       "      <td>NaN</td>\n",
       "      <td>NaN</td>\n",
       "      <td>NaN</td>\n",
       "    </tr>\n",
       "    <tr>\n",
       "      <th>...</th>\n",
       "      <td>...</td>\n",
       "      <td>...</td>\n",
       "      <td>...</td>\n",
       "      <td>...</td>\n",
       "      <td>...</td>\n",
       "      <td>...</td>\n",
       "    </tr>\n",
       "    <tr>\n",
       "      <th>184678</th>\n",
       "      <td>NaN</td>\n",
       "      <td>None</td>\n",
       "      <td>NaN</td>\n",
       "      <td>NaN</td>\n",
       "      <td>None</td>\n",
       "      <td>None</td>\n",
       "    </tr>\n",
       "    <tr>\n",
       "      <th>184695</th>\n",
       "      <td>NaN</td>\n",
       "      <td>None</td>\n",
       "      <td>NaN</td>\n",
       "      <td>NaN</td>\n",
       "      <td>None</td>\n",
       "      <td>None</td>\n",
       "    </tr>\n",
       "    <tr>\n",
       "      <th>185042</th>\n",
       "      <td>NaN</td>\n",
       "      <td>None</td>\n",
       "      <td>NaN</td>\n",
       "      <td>NaN</td>\n",
       "      <td>None</td>\n",
       "      <td>None</td>\n",
       "    </tr>\n",
       "    <tr>\n",
       "      <th>185729</th>\n",
       "      <td>NaN</td>\n",
       "      <td>None</td>\n",
       "      <td>NaN</td>\n",
       "      <td>NaN</td>\n",
       "      <td>None</td>\n",
       "      <td>None</td>\n",
       "    </tr>\n",
       "    <tr>\n",
       "      <th>186463</th>\n",
       "      <td>NaN</td>\n",
       "      <td>None</td>\n",
       "      <td>NaN</td>\n",
       "      <td>NaN</td>\n",
       "      <td>None</td>\n",
       "      <td>None</td>\n",
       "    </tr>\n",
       "  </tbody>\n",
       "</table>\n",
       "<p>545 rows × 6 columns</p>\n",
       "</div>"
      ],
      "text/plain": [
       "       Order_ID Product Quantity_Ordered Price_Each Order_Date  \\\n",
       "1           NaN     NaN              NaN        NaN        NaN   \n",
       "356         NaN     NaN              NaN        NaN        NaN   \n",
       "735         NaN     NaN              NaN        NaN        NaN   \n",
       "1433        NaN     NaN              NaN        NaN        NaN   \n",
       "1553        NaN     NaN              NaN        NaN        NaN   \n",
       "...         ...     ...              ...        ...        ...   \n",
       "184678      NaN    None              NaN        NaN       None   \n",
       "184695      NaN    None              NaN        NaN       None   \n",
       "185042      NaN    None              NaN        NaN       None   \n",
       "185729      NaN    None              NaN        NaN       None   \n",
       "186463      NaN    None              NaN        NaN       None   \n",
       "\n",
       "       Purchase_Address  \n",
       "1                   NaN  \n",
       "356                 NaN  \n",
       "735                 NaN  \n",
       "1433                NaN  \n",
       "1553                NaN  \n",
       "...                 ...  \n",
       "184678             None  \n",
       "184695             None  \n",
       "185042             None  \n",
       "185729             None  \n",
       "186463             None  \n",
       "\n",
       "[545 rows x 6 columns]"
      ]
     },
     "execution_count": 149,
     "metadata": {},
     "output_type": "execute_result"
    }
   ],
   "source": [
    "# Displaying rows where all columns are NaN (empty)\n",
    "empty_rows = Merged_df[Merged_df.isnull().all(axis=1)]\n",
    "empty_rows\n"
   ]
  },
  {
   "cell_type": "code",
   "execution_count": 150,
   "metadata": {},
   "outputs": [
    {
     "data": {
      "text/html": [
       "<div>\n",
       "<style scoped>\n",
       "    .dataframe tbody tr th:only-of-type {\n",
       "        vertical-align: middle;\n",
       "    }\n",
       "\n",
       "    .dataframe tbody tr th {\n",
       "        vertical-align: top;\n",
       "    }\n",
       "\n",
       "    .dataframe thead th {\n",
       "        text-align: right;\n",
       "    }\n",
       "</style>\n",
       "<table border=\"1\" class=\"dataframe\">\n",
       "  <thead>\n",
       "    <tr style=\"text-align: right;\">\n",
       "      <th></th>\n",
       "      <th>Order_ID</th>\n",
       "      <th>Product</th>\n",
       "      <th>Quantity_Ordered</th>\n",
       "      <th>Price_Each</th>\n",
       "      <th>Order_Date</th>\n",
       "      <th>Purchase_Address</th>\n",
       "    </tr>\n",
       "  </thead>\n",
       "  <tbody>\n",
       "    <tr>\n",
       "      <th>519</th>\n",
       "      <td>Order ID</td>\n",
       "      <td>Product</td>\n",
       "      <td>Quantity Ordered</td>\n",
       "      <td>Price Each</td>\n",
       "      <td>Order Date</td>\n",
       "      <td>Purchase Address</td>\n",
       "    </tr>\n",
       "    <tr>\n",
       "      <th>1149</th>\n",
       "      <td>Order ID</td>\n",
       "      <td>Product</td>\n",
       "      <td>Quantity Ordered</td>\n",
       "      <td>Price Each</td>\n",
       "      <td>Order Date</td>\n",
       "      <td>Purchase Address</td>\n",
       "    </tr>\n",
       "    <tr>\n",
       "      <th>1155</th>\n",
       "      <td>Order ID</td>\n",
       "      <td>Product</td>\n",
       "      <td>Quantity Ordered</td>\n",
       "      <td>Price Each</td>\n",
       "      <td>Order Date</td>\n",
       "      <td>Purchase Address</td>\n",
       "    </tr>\n",
       "    <tr>\n",
       "      <th>2878</th>\n",
       "      <td>Order ID</td>\n",
       "      <td>Product</td>\n",
       "      <td>Quantity Ordered</td>\n",
       "      <td>Price Each</td>\n",
       "      <td>Order Date</td>\n",
       "      <td>Purchase Address</td>\n",
       "    </tr>\n",
       "    <tr>\n",
       "      <th>2893</th>\n",
       "      <td>Order ID</td>\n",
       "      <td>Product</td>\n",
       "      <td>Quantity Ordered</td>\n",
       "      <td>Price Each</td>\n",
       "      <td>Order Date</td>\n",
       "      <td>Purchase Address</td>\n",
       "    </tr>\n",
       "    <tr>\n",
       "      <th>...</th>\n",
       "      <td>...</td>\n",
       "      <td>...</td>\n",
       "      <td>...</td>\n",
       "      <td>...</td>\n",
       "      <td>...</td>\n",
       "      <td>...</td>\n",
       "    </tr>\n",
       "    <tr>\n",
       "      <th>184931</th>\n",
       "      <td>NaN</td>\n",
       "      <td>Product</td>\n",
       "      <td>NaN</td>\n",
       "      <td>NaN</td>\n",
       "      <td>None</td>\n",
       "      <td>Purchase Address</td>\n",
       "    </tr>\n",
       "    <tr>\n",
       "      <th>185070</th>\n",
       "      <td>NaN</td>\n",
       "      <td>Product</td>\n",
       "      <td>NaN</td>\n",
       "      <td>NaN</td>\n",
       "      <td>None</td>\n",
       "      <td>Purchase Address</td>\n",
       "    </tr>\n",
       "    <tr>\n",
       "      <th>185481</th>\n",
       "      <td>NaN</td>\n",
       "      <td>Product</td>\n",
       "      <td>NaN</td>\n",
       "      <td>NaN</td>\n",
       "      <td>None</td>\n",
       "      <td>Purchase Address</td>\n",
       "    </tr>\n",
       "    <tr>\n",
       "      <th>185925</th>\n",
       "      <td>NaN</td>\n",
       "      <td>Product</td>\n",
       "      <td>NaN</td>\n",
       "      <td>NaN</td>\n",
       "      <td>None</td>\n",
       "      <td>Purchase Address</td>\n",
       "    </tr>\n",
       "    <tr>\n",
       "      <th>185955</th>\n",
       "      <td>NaN</td>\n",
       "      <td>Product</td>\n",
       "      <td>NaN</td>\n",
       "      <td>NaN</td>\n",
       "      <td>None</td>\n",
       "      <td>Purchase Address</td>\n",
       "    </tr>\n",
       "  </tbody>\n",
       "</table>\n",
       "<p>355 rows × 6 columns</p>\n",
       "</div>"
      ],
      "text/plain": [
       "        Order_ID  Product  Quantity_Ordered  Price_Each  Order_Date  \\\n",
       "519     Order ID  Product  Quantity Ordered  Price Each  Order Date   \n",
       "1149    Order ID  Product  Quantity Ordered  Price Each  Order Date   \n",
       "1155    Order ID  Product  Quantity Ordered  Price Each  Order Date   \n",
       "2878    Order ID  Product  Quantity Ordered  Price Each  Order Date   \n",
       "2893    Order ID  Product  Quantity Ordered  Price Each  Order Date   \n",
       "...          ...      ...               ...         ...         ...   \n",
       "184931       NaN  Product               NaN         NaN        None   \n",
       "185070       NaN  Product               NaN         NaN        None   \n",
       "185481       NaN  Product               NaN         NaN        None   \n",
       "185925       NaN  Product               NaN         NaN        None   \n",
       "185955       NaN  Product               NaN         NaN        None   \n",
       "\n",
       "        Purchase_Address  \n",
       "519     Purchase Address  \n",
       "1149    Purchase Address  \n",
       "1155    Purchase Address  \n",
       "2878    Purchase Address  \n",
       "2893    Purchase Address  \n",
       "...                  ...  \n",
       "184931  Purchase Address  \n",
       "185070  Purchase Address  \n",
       "185481  Purchase Address  \n",
       "185925  Purchase Address  \n",
       "185955  Purchase Address  \n",
       "\n",
       "[355 rows x 6 columns]"
      ]
     },
     "execution_count": 150,
     "metadata": {},
     "output_type": "execute_result"
    }
   ],
   "source": [
    "#showing the duplicate rows of the header Product and Purchase Address\n",
    "Merged_df[(Merged_df['Product']=='Product') & (Merged_df['Purchase_Address']=='Purchase Address')]"
   ]
  },
  {
   "cell_type": "markdown",
   "metadata": {},
   "source": [
    "### Observations \n",
    "There are several empty rows in the dataset across all the columns (at least 545 rows). Some of the rows have headers being repeated. For example there are 160 duplicate rows of all the column headers. Additionally, Product and Purchase Address columns have an extra 195 rows where only those two headers repeat but all other columns have missing values. This is why all columns have 740 missing values but those two have only 545 missing values (195 less).\n",
    "\n",
    "This suggests that a large portion of the 1161 duplicate rows are completely empty and filled with  duplicates of certain column headers. Nonetheless, the duplicate rows would be dropped. The Order_ID is likely not to play any relevant role so that also would be dropped. After dropping the duplicates and with the percentage of missing values being very low (less than half a percent), rows with missing values would be dropped.\n",
    "\n",
    "Product and Purchase Address are the only columns with the correct data types. Order_ID and Quantity Ordered should be integers, Order Date should be Datetime whilst Price Each should be float.\n",
    "\n",
    "The Order Date have different formatting with some having errors as this dataset represents 2019 calendar year yet some entries are before or after 2019."
   ]
  },
  {
   "cell_type": "markdown",
   "metadata": {},
   "source": [
    "## Data Cleaning\n",
    "[Back to top](#top)"
   ]
  },
  {
   "cell_type": "markdown",
   "metadata": {},
   "source": [
    "Unclean data (missing data, wrong data types, data with errors, duplicate data, etc) can lead to issues and errors during analysis and as such it is crucial we clean the data before proceeding with any analysis."
   ]
  },
  {
   "cell_type": "code",
   "execution_count": 151,
   "metadata": {},
   "outputs": [],
   "source": [
    "#making a copy of the dataset before cleaning it\n",
    "Merged_df2= Merged_df.copy()"
   ]
  },
  {
   "cell_type": "code",
   "execution_count": 152,
   "metadata": {},
   "outputs": [],
   "source": [
    "#dropping duplicate rows and Order_ID column\n",
    "Merged_df.drop_duplicates(inplace=True)\n",
    "Merged_df.drop(columns= ['Order_ID'], inplace=True)"
   ]
  },
  {
   "cell_type": "code",
   "execution_count": 153,
   "metadata": {},
   "outputs": [
    {
     "data": {
      "text/plain": [
       "Product             1\n",
       "Quantity_Ordered    2\n",
       "Price_Each          2\n",
       "Order_Date          2\n",
       "Purchase_Address    1\n",
       "dtype: int64"
      ]
     },
     "execution_count": 153,
     "metadata": {},
     "output_type": "execute_result"
    }
   ],
   "source": [
    "#viewing missing values after dropping duplicates\n",
    "Merged_df.isnull().sum()"
   ]
  },
  {
   "cell_type": "code",
   "execution_count": 154,
   "metadata": {},
   "outputs": [],
   "source": [
    "#Dropping rows with any missing values\n",
    "clean_df= Merged_df.dropna()"
   ]
  },
  {
   "cell_type": "code",
   "execution_count": 155,
   "metadata": {},
   "outputs": [
    {
     "data": {
      "text/plain": [
       "Product             0\n",
       "Quantity_Ordered    0\n",
       "Price_Each          0\n",
       "Order_Date          0\n",
       "Purchase_Address    0\n",
       "dtype: int64"
      ]
     },
     "execution_count": 155,
     "metadata": {},
     "output_type": "execute_result"
    }
   ],
   "source": [
    "#verifying that clean.df has no missing values\n",
    "clean_df.isna().sum()"
   ]
  },
  {
   "cell_type": "code",
   "execution_count": 156,
   "metadata": {},
   "outputs": [
    {
     "name": "stdout",
     "output_type": "stream",
     "text": [
      "<class 'pandas.core.frame.DataFrame'>\n",
      "Index: 185687 entries, 0 to 186849\n",
      "Data columns (total 5 columns):\n",
      " #   Column            Non-Null Count   Dtype \n",
      "---  ------            --------------   ----- \n",
      " 0   Product           185687 non-null  object\n",
      " 1   Quantity_Ordered  185687 non-null  object\n",
      " 2   Price_Each        185687 non-null  object\n",
      " 3   Order_Date        185687 non-null  object\n",
      " 4   Purchase_Address  185687 non-null  object\n",
      "dtypes: object(5)\n",
      "memory usage: 8.5+ MB\n"
     ]
    }
   ],
   "source": [
    "clean_df.info()"
   ]
  },
  {
   "cell_type": "code",
   "execution_count": 157,
   "metadata": {},
   "outputs": [
    {
     "data": {
      "text/plain": [
       "Product                   category\n",
       "Quantity_Ordered             int32\n",
       "Price_Each                 float64\n",
       "Order_Date          datetime64[ns]\n",
       "Purchase_Address            object\n",
       "dtype: object"
      ]
     },
     "execution_count": 157,
     "metadata": {},
     "output_type": "execute_result"
    }
   ],
   "source": [
    "# Correcting data types for numeric columns\n",
    "numeric_columns = ['Quantity_Ordered', 'Price_Each'] \n",
    "\n",
    "# Applying pd.to_numeric to ensure numeric data types \n",
    "clean_df[numeric_columns] = clean_df[numeric_columns].apply(pd.to_numeric, errors='coerce')\n",
    "\n",
    "# Converting Order_Date to datetime\n",
    "clean_df['Order_Date'] = pd.to_datetime(clean_df['Order_Date'], errors='coerce')\n",
    "\n",
    "#converting Quantity ordered from a float into an integer\n",
    "clean_df['Quantity_Ordered']= clean_df['Quantity_Ordered'].fillna(0).astype(int)\n",
    "\n",
    "#converting Product from object into category\n",
    "clean_df['Product']= clean_df['Product'].astype('category')\n",
    "\n",
    "# Displaying the data types of columns after conversion\n",
    "clean_df.dtypes\n"
   ]
  },
  {
   "cell_type": "code",
   "execution_count": 158,
   "metadata": {},
   "outputs": [
    {
     "data": {
      "text/plain": [
       "Product             0\n",
       "Quantity_Ordered    0\n",
       "Price_Each          1\n",
       "Order_Date          1\n",
       "Purchase_Address    0\n",
       "dtype: int64"
      ]
     },
     "execution_count": 158,
     "metadata": {},
     "output_type": "execute_result"
    }
   ],
   "source": [
    "#checking for missing values after changing data types\n",
    "clean_df.isna().sum()"
   ]
  },
  {
   "cell_type": "code",
   "execution_count": 159,
   "metadata": {},
   "outputs": [
    {
     "data": {
      "text/plain": [
       "Product             0\n",
       "Quantity_Ordered    0\n",
       "Price_Each          0\n",
       "Order_Date          0\n",
       "Purchase_Address    0\n",
       "dtype: int64"
      ]
     },
     "execution_count": 159,
     "metadata": {},
     "output_type": "execute_result"
    }
   ],
   "source": [
    "#dropping missing values\n",
    "clean_df.dropna(inplace=True)\n",
    "\n",
    "#verifying that we have no missing values after changing data types\n",
    "clean_df.isna().sum()"
   ]
  },
  {
   "cell_type": "markdown",
   "metadata": {},
   "source": [
    "### Viewing the Unique values in each column"
   ]
  },
  {
   "cell_type": "code",
   "execution_count": 160,
   "metadata": {},
   "outputs": [
    {
     "data": {
      "text/plain": [
       "Product                 19\n",
       "Quantity_Ordered         9\n",
       "Price_Each              28\n",
       "Order_Date          142395\n",
       "Purchase_Address    140787\n",
       "dtype: int64"
      ]
     },
     "execution_count": 160,
     "metadata": {},
     "output_type": "execute_result"
    }
   ],
   "source": [
    "#number of unique values in each column\n",
    "clean_df.nunique()"
   ]
  },
  {
   "cell_type": "code",
   "execution_count": 161,
   "metadata": {},
   "outputs": [
    {
     "data": {
      "text/plain": [
       "['USB-C Charging Cable', 'Bose SoundSport Headphones', 'Google Phone', 'Wired Headphones', 'Macbook Pro Laptop', ..., 'LG Dryer', 'ThinkPad Laptop', 'Vareebadd Phone', 'LG Washing Machine', '34in Ultrawide Monitor']\n",
       "Length: 19\n",
       "Categories (20, object): ['20in Monitor', '27in 4K Gaming Monitor', '27in FHD Monitor', '34in Ultrawide Monitor', ..., 'USB-C Charging Cable', 'Vareebadd Phone', 'Wired Headphones', 'iPhone']"
      ]
     },
     "execution_count": 161,
     "metadata": {},
     "output_type": "execute_result"
    }
   ],
   "source": [
    "#Viewing the unique values in the column Product\n",
    "clean_df['Product'].unique()"
   ]
  },
  {
   "cell_type": "code",
   "execution_count": 162,
   "metadata": {},
   "outputs": [
    {
     "data": {
      "text/html": [
       "<div>\n",
       "<style scoped>\n",
       "    .dataframe tbody tr th:only-of-type {\n",
       "        vertical-align: middle;\n",
       "    }\n",
       "\n",
       "    .dataframe tbody tr th {\n",
       "        vertical-align: top;\n",
       "    }\n",
       "\n",
       "    .dataframe thead th {\n",
       "        text-align: right;\n",
       "    }\n",
       "</style>\n",
       "<table border=\"1\" class=\"dataframe\">\n",
       "  <thead>\n",
       "    <tr style=\"text-align: right;\">\n",
       "      <th></th>\n",
       "      <th>Product</th>\n",
       "      <th>Product_Category</th>\n",
       "    </tr>\n",
       "  </thead>\n",
       "  <tbody>\n",
       "    <tr>\n",
       "      <th>0</th>\n",
       "      <td>USB-C Charging Cable</td>\n",
       "      <td>Cables and Chargers</td>\n",
       "    </tr>\n",
       "    <tr>\n",
       "      <th>2</th>\n",
       "      <td>Bose SoundSport Headphones</td>\n",
       "      <td>Headphones and Earphones</td>\n",
       "    </tr>\n",
       "    <tr>\n",
       "      <th>3</th>\n",
       "      <td>Google Phone</td>\n",
       "      <td>Phones and Accessories</td>\n",
       "    </tr>\n",
       "    <tr>\n",
       "      <th>4</th>\n",
       "      <td>Wired Headphones</td>\n",
       "      <td>Headphones and Earphones</td>\n",
       "    </tr>\n",
       "    <tr>\n",
       "      <th>5</th>\n",
       "      <td>Wired Headphones</td>\n",
       "      <td>Headphones and Earphones</td>\n",
       "    </tr>\n",
       "    <tr>\n",
       "      <th>...</th>\n",
       "      <td>...</td>\n",
       "      <td>...</td>\n",
       "    </tr>\n",
       "    <tr>\n",
       "      <th>186845</th>\n",
       "      <td>Lightning Charging Cable</td>\n",
       "      <td>Cables and Chargers</td>\n",
       "    </tr>\n",
       "    <tr>\n",
       "      <th>186846</th>\n",
       "      <td>AA Batteries (4-pack)</td>\n",
       "      <td>Batteries</td>\n",
       "    </tr>\n",
       "    <tr>\n",
       "      <th>186847</th>\n",
       "      <td>Vareebadd Phone</td>\n",
       "      <td>Phones and Accessories</td>\n",
       "    </tr>\n",
       "    <tr>\n",
       "      <th>186848</th>\n",
       "      <td>Wired Headphones</td>\n",
       "      <td>Headphones and Earphones</td>\n",
       "    </tr>\n",
       "    <tr>\n",
       "      <th>186849</th>\n",
       "      <td>Bose SoundSport Headphones</td>\n",
       "      <td>Headphones and Earphones</td>\n",
       "    </tr>\n",
       "  </tbody>\n",
       "</table>\n",
       "<p>185686 rows × 2 columns</p>\n",
       "</div>"
      ],
      "text/plain": [
       "                           Product          Product_Category\n",
       "0             USB-C Charging Cable       Cables and Chargers\n",
       "2       Bose SoundSport Headphones  Headphones and Earphones\n",
       "3                     Google Phone    Phones and Accessories\n",
       "4                 Wired Headphones  Headphones and Earphones\n",
       "5                 Wired Headphones  Headphones and Earphones\n",
       "...                            ...                       ...\n",
       "186845    Lightning Charging Cable       Cables and Chargers\n",
       "186846       AA Batteries (4-pack)                 Batteries\n",
       "186847             Vareebadd Phone    Phones and Accessories\n",
       "186848            Wired Headphones  Headphones and Earphones\n",
       "186849  Bose SoundSport Headphones  Headphones and Earphones\n",
       "\n",
       "[185686 rows x 2 columns]"
      ]
     },
     "execution_count": 162,
     "metadata": {},
     "output_type": "execute_result"
    }
   ],
   "source": [
    "# Dictionary to map products to their categories\n",
    "product_categories = {\n",
    "    'USB-C Charging Cable': 'Cables and Chargers',\n",
    "    'Lightning Charging Cable': 'Cables and Chargers',\n",
    "    'Bose SoundSport Headphones': 'Headphones and Earphones',\n",
    "    'Wired Headphones': 'Headphones and Earphones',\n",
    "    'Apple Airpods Headphones': 'Headphones and Earphones',\n",
    "    'Google Phone': 'Phones and Accessories',\n",
    "    'iPhone': 'Phones and Accessories',\n",
    "    'Vareebadd Phone': 'Phones and Accessories',\n",
    "    'Macbook Pro Laptop': 'Laptops',\n",
    "    'ThinkPad Laptop': 'Laptops',\n",
    "    '27in 4K Gaming Monitor': 'Monitors and Displays',\n",
    "    '27in FHD Monitor': 'Monitors and Displays',\n",
    "    '20in Monitor': 'Monitors and Displays',\n",
    "    '34in Ultrawide Monitor': 'Monitors and Displays',\n",
    "    'Flatscreen TV': 'Monitors and Displays',\n",
    "    'AA Batteries (4-pack)': 'Batteries',\n",
    "    'AAA Batteries (4-pack)': 'Batteries',\n",
    "    'LG Dryer': 'Home Appliances',\n",
    "    'LG Washing Machine': 'Home Appliances'\n",
    "}\n",
    "\n",
    "# creating a new column named Product category that would map the products\n",
    "clean_df['Product_Category'] = clean_df['Product'].map(product_categories)\n",
    "\n",
    "# Display the new category column along with the product column\n",
    "clean_df[['Product', 'Product_Category']]\n"
   ]
  },
  {
   "cell_type": "code",
   "execution_count": 163,
   "metadata": {},
   "outputs": [
    {
     "data": {
      "text/plain": [
       "array([2, 1, 3, 5, 4, 7, 6, 9, 8])"
      ]
     },
     "execution_count": 163,
     "metadata": {},
     "output_type": "execute_result"
    }
   ],
   "source": [
    "#Viewing the unique values in the column Quantity\n",
    "clean_df['Quantity_Ordered'].unique()"
   ]
  },
  {
   "cell_type": "code",
   "execution_count": 164,
   "metadata": {},
   "outputs": [
    {
     "data": {
      "text/plain": [
       "array([  11.95      ,   99.99      ,  600.        ,   11.99      ,\n",
       "       1700.        ,   14.95      ,  389.99      ,    3.84      ,\n",
       "        150.        ,    2.99      ,  700.        ,  300.        ,\n",
       "        149.99      ,  109.99      ,  999.99      ,  400.        ,\n",
       "        379.99      ,    3.83999991,    2.99000001,   99.98999786,\n",
       "         11.94999981,   14.94999981,  379.98999023,   11.98999977,\n",
       "        149.99000549,  109.98999786,  999.98999023,  389.98999023])"
      ]
     },
     "execution_count": 164,
     "metadata": {},
     "output_type": "execute_result"
    }
   ],
   "source": [
    "#Viewing the unique values in the column Price Each\n",
    "clean_df['Price_Each'].unique()"
   ]
  },
  {
   "cell_type": "code",
   "execution_count": 165,
   "metadata": {},
   "outputs": [],
   "source": [
    "def round_prices(df, column_name):\n",
    "    \"\"\"\n",
    "    Rounds the values in the specified column of the DataFrame to two decimal places.\n",
    "    \n",
    "    Parameters:\n",
    "    df (pd.DataFrame): The DataFrame containing the column to be rounded.\n",
    "    column_name (str): The name of the column to round.\n",
    "    \n",
    "    Returns:\n",
    "    pd.DataFrame: DataFrame with rounded values in the specified column.\n",
    "    \"\"\"\n",
    "    # Round the values in the specified column to 2 decimal places\n",
    "    df[column_name] = df[column_name].round(2)\n",
    "    return df\n",
    "\n"
   ]
  },
  {
   "cell_type": "code",
   "execution_count": 166,
   "metadata": {},
   "outputs": [
    {
     "data": {
      "text/plain": [
       "array([  11.95,   99.99,  600.  ,   11.99, 1700.  ,   14.95,  389.99,\n",
       "          3.84,  150.  ,    2.99,  700.  ,  300.  ,  149.99,  109.99,\n",
       "        999.99,  400.  ,  379.99])"
      ]
     },
     "execution_count": 166,
     "metadata": {},
     "output_type": "execute_result"
    }
   ],
   "source": [
    "#renaming the price column\n",
    "clean_df.rename(columns={'Price_Each' : 'Price'}, inplace=True)\n",
    "\n",
    "# Rounding up the values in the column Price\n",
    "clean_df = round_prices(clean_df, 'Price')\n",
    "clean_df['Price'].unique()"
   ]
  },
  {
   "cell_type": "code",
   "execution_count": 167,
   "metadata": {},
   "outputs": [
    {
     "data": {
      "text/html": [
       "<div>\n",
       "<style scoped>\n",
       "    .dataframe tbody tr th:only-of-type {\n",
       "        vertical-align: middle;\n",
       "    }\n",
       "\n",
       "    .dataframe tbody tr th {\n",
       "        vertical-align: top;\n",
       "    }\n",
       "\n",
       "    .dataframe thead th {\n",
       "        text-align: right;\n",
       "    }\n",
       "</style>\n",
       "<table border=\"1\" class=\"dataframe\">\n",
       "  <thead>\n",
       "    <tr style=\"text-align: right;\">\n",
       "      <th></th>\n",
       "      <th>Purchase_Address</th>\n",
       "      <th>City</th>\n",
       "    </tr>\n",
       "  </thead>\n",
       "  <tbody>\n",
       "    <tr>\n",
       "      <th>0</th>\n",
       "      <td>917 1st St, Dallas, TX 75001</td>\n",
       "      <td>Dallas</td>\n",
       "    </tr>\n",
       "    <tr>\n",
       "      <th>2</th>\n",
       "      <td>682 Chestnut St, Boston, MA 02215</td>\n",
       "      <td>Boston</td>\n",
       "    </tr>\n",
       "    <tr>\n",
       "      <th>3</th>\n",
       "      <td>669 Spruce St, Los Angeles, CA 90001</td>\n",
       "      <td>Los Angeles</td>\n",
       "    </tr>\n",
       "    <tr>\n",
       "      <th>4</th>\n",
       "      <td>669 Spruce St, Los Angeles, CA 90001</td>\n",
       "      <td>Los Angeles</td>\n",
       "    </tr>\n",
       "    <tr>\n",
       "      <th>5</th>\n",
       "      <td>333 8th St, Los Angeles, CA 90001</td>\n",
       "      <td>Los Angeles</td>\n",
       "    </tr>\n",
       "    <tr>\n",
       "      <th>...</th>\n",
       "      <td>...</td>\n",
       "      <td>...</td>\n",
       "    </tr>\n",
       "    <tr>\n",
       "      <th>186845</th>\n",
       "      <td>14 Madison St, San Francisco, CA 94016</td>\n",
       "      <td>San Francisco</td>\n",
       "    </tr>\n",
       "    <tr>\n",
       "      <th>186846</th>\n",
       "      <td>549 Willow St, Los Angeles, CA 90001</td>\n",
       "      <td>Los Angeles</td>\n",
       "    </tr>\n",
       "    <tr>\n",
       "      <th>186847</th>\n",
       "      <td>273 Wilson St, Seattle, WA 98101</td>\n",
       "      <td>Seattle</td>\n",
       "    </tr>\n",
       "    <tr>\n",
       "      <th>186848</th>\n",
       "      <td>778 River St, Dallas, TX 75001</td>\n",
       "      <td>Dallas</td>\n",
       "    </tr>\n",
       "    <tr>\n",
       "      <th>186849</th>\n",
       "      <td>747 Chestnut St, Los Angeles, CA 90001</td>\n",
       "      <td>Los Angeles</td>\n",
       "    </tr>\n",
       "  </tbody>\n",
       "</table>\n",
       "<p>185686 rows × 2 columns</p>\n",
       "</div>"
      ],
      "text/plain": [
       "                              Purchase_Address           City\n",
       "0                 917 1st St, Dallas, TX 75001         Dallas\n",
       "2            682 Chestnut St, Boston, MA 02215         Boston\n",
       "3         669 Spruce St, Los Angeles, CA 90001    Los Angeles\n",
       "4         669 Spruce St, Los Angeles, CA 90001    Los Angeles\n",
       "5            333 8th St, Los Angeles, CA 90001    Los Angeles\n",
       "...                                        ...            ...\n",
       "186845  14 Madison St, San Francisco, CA 94016  San Francisco\n",
       "186846    549 Willow St, Los Angeles, CA 90001    Los Angeles\n",
       "186847        273 Wilson St, Seattle, WA 98101        Seattle\n",
       "186848          778 River St, Dallas, TX 75001         Dallas\n",
       "186849  747 Chestnut St, Los Angeles, CA 90001    Los Angeles\n",
       "\n",
       "[185686 rows x 2 columns]"
      ]
     },
     "execution_count": 167,
     "metadata": {},
     "output_type": "execute_result"
    }
   ],
   "source": [
    "# Extract the city name from 'Purchase_Address'\n",
    "clean_df['City'] = clean_df['Purchase_Address'].apply(lambda x: x.split(',')[1].strip())\n",
    "\n",
    "# Display the new category column along with the product column\n",
    "clean_df[['Purchase_Address', 'City']]\n"
   ]
  },
  {
   "cell_type": "code",
   "execution_count": 171,
   "metadata": {},
   "outputs": [],
   "source": [
    "clean_df31= clean_df.copy()"
   ]
  },
  {
   "cell_type": "code",
   "execution_count": 172,
   "metadata": {},
   "outputs": [
    {
     "data": {
      "text/plain": [
       "0        2019-04-19 08:46:00\n",
       "2        2019-04-19 22:30:00\n",
       "3        2019-04-19 14:38:00\n",
       "4        2019-04-19 14:38:00\n",
       "5        2019-04-19 09:27:00\n",
       "                 ...        \n",
       "186845   2019-12-11 20:58:00\n",
       "186846   2019-12-01 12:01:00\n",
       "186847   2019-12-09 06:43:00\n",
       "186848   2019-12-03 10:39:00\n",
       "186849   2019-12-21 21:45:00\n",
       "Name: Order_Date, Length: 185686, dtype: datetime64[ns]"
      ]
     },
     "execution_count": 172,
     "metadata": {},
     "output_type": "execute_result"
    }
   ],
   "source": [
    "#a function to clean the Order Date\n",
    "def clean_order_date(df, date_column):\n",
    "    def correct_date_format(date_str):\n",
    "        try:\n",
    "            # Split the date string by space to separate the date and time\n",
    "            date_part, time_part = date_str.split(' ')\n",
    "            \n",
    "            # Split the date part by '-'\n",
    "            parts = date_part.split('-')\n",
    "            \n",
    "            # Extract the year, month, and day\n",
    "            year = int(parts[0])\n",
    "            month = int(parts[1])\n",
    "            day = int(parts[2])\n",
    "            \n",
    "            # Extract the last two digits of the year to use as the day\n",
    "            correct_day = int(str(year)[-2:])\n",
    "            \n",
    "            # Construct the corrected date string in YYYY-MM-DD HH:MM:SS format\n",
    "            corrected_date_str = f\"2019-{month:02d}-{correct_day:02d} {time_part}\"\n",
    "            \n",
    "            # Convert to datetime using the correct format\n",
    "            date = pd.to_datetime(corrected_date_str, format='%Y-%m-%d %H:%M:%S', errors='coerce')\n",
    "            \n",
    "            return date\n",
    "        except Exception as e:\n",
    "            return pd.NaT\n",
    "\n",
    "    # Convert the column to string in case it's not already\n",
    "    df[date_column] = df[date_column].astype(str)\n",
    "    \n",
    "    # Apply the function to clean the dates\n",
    "    df[date_column] = df[date_column].apply(correct_date_format)\n",
    "\n",
    "    # Drop rows with NaT (invalid dates)\n",
    "    df_cleaned = df.dropna(subset=[date_column])\n",
    "\n",
    "    return df_cleaned\n",
    "\n",
    "# Example usage:\n",
    "clean_df31 = clean_order_date(clean_df31, 'Order_Date')\n",
    "clean_df31['Order_Date']\n",
    "\n"
   ]
  }
 ],
 "metadata": {
  "kernelspec": {
   "display_name": "venv",
   "language": "python",
   "name": "python3"
  },
  "language_info": {
   "codemirror_mode": {
    "name": "ipython",
    "version": 3
   },
   "file_extension": ".py",
   "mimetype": "text/x-python",
   "name": "python",
   "nbconvert_exporter": "python",
   "pygments_lexer": "ipython3",
   "version": "3.10.9"
  }
 },
 "nbformat": 4,
 "nbformat_minor": 2
}
